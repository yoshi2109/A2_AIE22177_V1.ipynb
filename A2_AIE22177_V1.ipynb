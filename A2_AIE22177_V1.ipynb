{
  "nbformat": 4,
  "nbformat_minor": 0,
  "metadata": {
    "colab": {
      "provenance": []
    },
    "kernelspec": {
      "name": "python3",
      "display_name": "Python 3"
    },
    "language_info": {
      "name": "python"
    }
  },
  "cells": [
    {
      "cell_type": "code",
      "execution_count": 2,
      "metadata": {
        "colab": {
          "base_uri": "https://localhost:8080/"
        },
        "id": "lUZ8a4mgKHzz",
        "outputId": "63a741b4-70dd-47b6-dea5-b9657869e69b"
      },
      "outputs": [
        {
          "output_type": "stream",
          "name": "stdout",
          "text": [
            "Euclidean Distance: 5.196152422706632\n",
            "Manhattan Distance: 9\n",
            "k-NN Classifier Prediction: 0\n",
            "Label Encoded Data: [2, 1, 0, 2, 1]\n",
            "One-Hot Encoded Data:\n",
            "[[0, 0, 1], [0, 1, 0], [1, 0, 0], [0, 0, 1], [0, 1, 0]]\n"
          ]
        }
      ],
      "source": [
        "# Function to calculate Euclidean distance between two vectors\n",
        "def euclidean_distance(vector1, vector2):\n",
        "    if len(vector1) != len(vector2):\n",
        "        raise ValueError(\"Vectors must be of the same dimension\")\n",
        "    squared_distance = sum((x - y) ** 2 for x, y in zip(vector1, vector2))\n",
        "    return squared_distance ** 0.5\n",
        "\n",
        "# Function to calculate Manhattan distance between two vectors\n",
        "def manhattan_distance(vector1, vector2):\n",
        "    if len(vector1) != len(vector2):\n",
        "        raise ValueError(\"Vectors must be of the same dimension\")\n",
        "    distance = sum(abs(x - y) for x, y in zip(vector1, vector2))\n",
        "    return distance\n",
        "\n",
        "# Function to implement k-NN classifier\n",
        "def knn_classifier(training_data, test_instance, k):\n",
        "    distances = [(euclidean_distance(test_instance, training_instance), label) for training_instance, label in training_data]\n",
        "    sorted_distances = sorted(distances, key=lambda x: x[0])\n",
        "    k_nearest_labels = [label for _, label in sorted_distances[:k]]\n",
        "    # Assuming labels are integers for simplicity\n",
        "    predicted_label = max(set(k_nearest_labels), key=k_nearest_labels.count)\n",
        "    return predicted_label\n",
        "\n",
        "# Function to convert categorical variables to numeric using label encoding\n",
        "def label_encoding(categories):\n",
        "    label_map = {category: index for index, category in enumerate(set(categories))}\n",
        "    encoded_values = [label_map[category] for category in categories]\n",
        "    return encoded_values\n",
        "\n",
        "# Function to convert categorical variables to numeric using One-Hot encoding\n",
        "def one_hot_encoding(categories):\n",
        "    unique_categories = list(set(categories))\n",
        "    encoded_matrix = []\n",
        "    for category in categories:\n",
        "        category_index = unique_categories.index(category)\n",
        "        encoded_row = [1 if i == category_index else 0 for i in range(len(unique_categories))]\n",
        "        encoded_matrix.append(encoded_row)\n",
        "    return encoded_matrix\n",
        "\n",
        "# Example usage in the main program\n",
        "if __name__ == \"__main__\":\n",
        "    # Example data for testing\n",
        "    vector1 = [1, 2, 3]\n",
        "    vector2 = [4, 5, 6]\n",
        "    print(f\"Euclidean Distance: {euclidean_distance(vector1, vector2)}\")\n",
        "    print(f\"Manhattan Distance: {manhattan_distance(vector1, vector2)}\")\n",
        "\n",
        "    training_data = [([1, 2], 0), ([4, 5], 1), ([7, 8], 0), ([10, 11], 1)]\n",
        "    test_instance = [3, 4]\n",
        "    k_value = 3\n",
        "    print(f\"k-NN Classifier Prediction: {knn_classifier(training_data, test_instance, k_value)}\")\n",
        "\n",
        "    categorical_data = [\"red\", \"green\", \"blue\", \"red\", \"green\"]\n",
        "    print(f\"Label Encoded Data: {label_encoding(categorical_data)}\")\n",
        "\n",
        "    one_hot_encoded_data = one_hot_encoding(categorical_data)\n",
        "    print(f\"One-Hot Encoded Data:\\n{one_hot_encoded_data}\")\n"
      ]
    }
  ]
}